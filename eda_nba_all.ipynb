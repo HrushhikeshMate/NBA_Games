{
  "nbformat": 4,
  "nbformat_minor": 0,
  "metadata": {
    "colab": {
      "provenance": [],
      "authorship_tag": "ABX9TyMOLInzU10EstF0C8C0y1R/",
      "include_colab_link": true
    },
    "kernelspec": {
      "name": "python3",
      "display_name": "Python 3"
    },
    "language_info": {
      "name": "python"
    }
  },
  "cells": [
    {
      "cell_type": "markdown",
      "metadata": {
        "id": "view-in-github",
        "colab_type": "text"
      },
      "source": [
        "<a href=\"https://colab.research.google.com/github/HrushhikeshMate/NBA_Games/blob/main/eda_nba_all.ipynb\" target=\"_parent\"><img src=\"https://colab.research.google.com/assets/colab-badge.svg\" alt=\"Open In Colab\"/></a>"
      ]
    },
    {
      "cell_type": "code",
      "execution_count": null,
      "metadata": {
        "id": "zftKNDfnth8T"
      },
      "outputs": [],
      "source": [
        "import pandas as pd\n",
        "import matplotlib.pyplot as plt\n",
        "import seaborn as sns\n",
        "\n",
        "# Load the dataset\n",
        "nba_data = pd.read_csv('/content/nba_advanced_2019-2024_data.csv')"
      ]
    },
    {
      "cell_type": "code",
      "source": [
        "# Display the first few rows and general info to understand the dataset structure\n",
        "nba_data.head()"
      ],
      "metadata": {
        "colab": {
          "base_uri": "https://localhost:8080/",
          "height": 313
        },
        "id": "sqBMsjD9ty0D",
        "outputId": "95e952cf-9c0f-4661-8cee-344c553ce71f"
      },
      "execution_count": null,
      "outputs": [
        {
          "output_type": "execute_result",
          "data": {
            "text/plain": [
              "   Season  G Team           Name        Date   At  Opp W/L  OPts Location  \\\n",
              "0    2019  1  ATL  Atlanta Hawks  2018-10-17    @  NYK   L   107     Away   \n",
              "1    2019  2  ATL  Atlanta Hawks  2018-10-19    @  MEM   L   117     Away   \n",
              "2    2019  3  ATL  Atlanta Hawks  2018-10-21    @  CLE   W   133     Away   \n",
              "3    2019  4  ATL  Atlanta Hawks  2018-10-24  NaN  DAL   W   111     Home   \n",
              "4    2019  5  ATL  Atlanta Hawks  2018-10-27  NaN  CHI   L    85     Home   \n",
              "\n",
              "   DPts             Opp_Name   ORtg   DRtg   Pace  Win  \n",
              "0   126      New York Knicks   93.8  110.5  114.0    0  \n",
              "1   131    Memphis Grizzlies  109.9  123.1  106.5    0  \n",
              "2   111  Cleveland Cavaliers  125.5  104.7  106.0    1  \n",
              "3   104     Dallas Mavericks  102.7   96.2  108.1    1  \n",
              "4    97        Chicago Bulls   82.3   94.0  103.2    0  "
            ],
            "text/html": [
              "\n",
              "  <div id=\"df-1ab29615-6cbc-4c02-8f69-3ddfbc16f43a\" class=\"colab-df-container\">\n",
              "    <div>\n",
              "<style scoped>\n",
              "    .dataframe tbody tr th:only-of-type {\n",
              "        vertical-align: middle;\n",
              "    }\n",
              "\n",
              "    .dataframe tbody tr th {\n",
              "        vertical-align: top;\n",
              "    }\n",
              "\n",
              "    .dataframe thead th {\n",
              "        text-align: right;\n",
              "    }\n",
              "</style>\n",
              "<table border=\"1\" class=\"dataframe\">\n",
              "  <thead>\n",
              "    <tr style=\"text-align: right;\">\n",
              "      <th></th>\n",
              "      <th>Season</th>\n",
              "      <th>G</th>\n",
              "      <th>Team</th>\n",
              "      <th>Name</th>\n",
              "      <th>Date</th>\n",
              "      <th>At</th>\n",
              "      <th>Opp</th>\n",
              "      <th>W/L</th>\n",
              "      <th>OPts</th>\n",
              "      <th>Location</th>\n",
              "      <th>DPts</th>\n",
              "      <th>Opp_Name</th>\n",
              "      <th>ORtg</th>\n",
              "      <th>DRtg</th>\n",
              "      <th>Pace</th>\n",
              "      <th>Win</th>\n",
              "    </tr>\n",
              "  </thead>\n",
              "  <tbody>\n",
              "    <tr>\n",
              "      <th>0</th>\n",
              "      <td>2019</td>\n",
              "      <td>1</td>\n",
              "      <td>ATL</td>\n",
              "      <td>Atlanta Hawks</td>\n",
              "      <td>2018-10-17</td>\n",
              "      <td>@</td>\n",
              "      <td>NYK</td>\n",
              "      <td>L</td>\n",
              "      <td>107</td>\n",
              "      <td>Away</td>\n",
              "      <td>126</td>\n",
              "      <td>New York Knicks</td>\n",
              "      <td>93.8</td>\n",
              "      <td>110.5</td>\n",
              "      <td>114.0</td>\n",
              "      <td>0</td>\n",
              "    </tr>\n",
              "    <tr>\n",
              "      <th>1</th>\n",
              "      <td>2019</td>\n",
              "      <td>2</td>\n",
              "      <td>ATL</td>\n",
              "      <td>Atlanta Hawks</td>\n",
              "      <td>2018-10-19</td>\n",
              "      <td>@</td>\n",
              "      <td>MEM</td>\n",
              "      <td>L</td>\n",
              "      <td>117</td>\n",
              "      <td>Away</td>\n",
              "      <td>131</td>\n",
              "      <td>Memphis Grizzlies</td>\n",
              "      <td>109.9</td>\n",
              "      <td>123.1</td>\n",
              "      <td>106.5</td>\n",
              "      <td>0</td>\n",
              "    </tr>\n",
              "    <tr>\n",
              "      <th>2</th>\n",
              "      <td>2019</td>\n",
              "      <td>3</td>\n",
              "      <td>ATL</td>\n",
              "      <td>Atlanta Hawks</td>\n",
              "      <td>2018-10-21</td>\n",
              "      <td>@</td>\n",
              "      <td>CLE</td>\n",
              "      <td>W</td>\n",
              "      <td>133</td>\n",
              "      <td>Away</td>\n",
              "      <td>111</td>\n",
              "      <td>Cleveland Cavaliers</td>\n",
              "      <td>125.5</td>\n",
              "      <td>104.7</td>\n",
              "      <td>106.0</td>\n",
              "      <td>1</td>\n",
              "    </tr>\n",
              "    <tr>\n",
              "      <th>3</th>\n",
              "      <td>2019</td>\n",
              "      <td>4</td>\n",
              "      <td>ATL</td>\n",
              "      <td>Atlanta Hawks</td>\n",
              "      <td>2018-10-24</td>\n",
              "      <td>NaN</td>\n",
              "      <td>DAL</td>\n",
              "      <td>W</td>\n",
              "      <td>111</td>\n",
              "      <td>Home</td>\n",
              "      <td>104</td>\n",
              "      <td>Dallas Mavericks</td>\n",
              "      <td>102.7</td>\n",
              "      <td>96.2</td>\n",
              "      <td>108.1</td>\n",
              "      <td>1</td>\n",
              "    </tr>\n",
              "    <tr>\n",
              "      <th>4</th>\n",
              "      <td>2019</td>\n",
              "      <td>5</td>\n",
              "      <td>ATL</td>\n",
              "      <td>Atlanta Hawks</td>\n",
              "      <td>2018-10-27</td>\n",
              "      <td>NaN</td>\n",
              "      <td>CHI</td>\n",
              "      <td>L</td>\n",
              "      <td>85</td>\n",
              "      <td>Home</td>\n",
              "      <td>97</td>\n",
              "      <td>Chicago Bulls</td>\n",
              "      <td>82.3</td>\n",
              "      <td>94.0</td>\n",
              "      <td>103.2</td>\n",
              "      <td>0</td>\n",
              "    </tr>\n",
              "  </tbody>\n",
              "</table>\n",
              "</div>\n",
              "    <div class=\"colab-df-buttons\">\n",
              "\n",
              "  <div class=\"colab-df-container\">\n",
              "    <button class=\"colab-df-convert\" onclick=\"convertToInteractive('df-1ab29615-6cbc-4c02-8f69-3ddfbc16f43a')\"\n",
              "            title=\"Convert this dataframe to an interactive table.\"\n",
              "            style=\"display:none;\">\n",
              "\n",
              "  <svg xmlns=\"http://www.w3.org/2000/svg\" height=\"24px\" viewBox=\"0 -960 960 960\">\n",
              "    <path d=\"M120-120v-720h720v720H120Zm60-500h600v-160H180v160Zm220 220h160v-160H400v160Zm0 220h160v-160H400v160ZM180-400h160v-160H180v160Zm440 0h160v-160H620v160ZM180-180h160v-160H180v160Zm440 0h160v-160H620v160Z\"/>\n",
              "  </svg>\n",
              "    </button>\n",
              "\n",
              "  <style>\n",
              "    .colab-df-container {\n",
              "      display:flex;\n",
              "      gap: 12px;\n",
              "    }\n",
              "\n",
              "    .colab-df-convert {\n",
              "      background-color: #E8F0FE;\n",
              "      border: none;\n",
              "      border-radius: 50%;\n",
              "      cursor: pointer;\n",
              "      display: none;\n",
              "      fill: #1967D2;\n",
              "      height: 32px;\n",
              "      padding: 0 0 0 0;\n",
              "      width: 32px;\n",
              "    }\n",
              "\n",
              "    .colab-df-convert:hover {\n",
              "      background-color: #E2EBFA;\n",
              "      box-shadow: 0px 1px 2px rgba(60, 64, 67, 0.3), 0px 1px 3px 1px rgba(60, 64, 67, 0.15);\n",
              "      fill: #174EA6;\n",
              "    }\n",
              "\n",
              "    .colab-df-buttons div {\n",
              "      margin-bottom: 4px;\n",
              "    }\n",
              "\n",
              "    [theme=dark] .colab-df-convert {\n",
              "      background-color: #3B4455;\n",
              "      fill: #D2E3FC;\n",
              "    }\n",
              "\n",
              "    [theme=dark] .colab-df-convert:hover {\n",
              "      background-color: #434B5C;\n",
              "      box-shadow: 0px 1px 3px 1px rgba(0, 0, 0, 0.15);\n",
              "      filter: drop-shadow(0px 1px 2px rgba(0, 0, 0, 0.3));\n",
              "      fill: #FFFFFF;\n",
              "    }\n",
              "  </style>\n",
              "\n",
              "    <script>\n",
              "      const buttonEl =\n",
              "        document.querySelector('#df-1ab29615-6cbc-4c02-8f69-3ddfbc16f43a button.colab-df-convert');\n",
              "      buttonEl.style.display =\n",
              "        google.colab.kernel.accessAllowed ? 'block' : 'none';\n",
              "\n",
              "      async function convertToInteractive(key) {\n",
              "        const element = document.querySelector('#df-1ab29615-6cbc-4c02-8f69-3ddfbc16f43a');\n",
              "        const dataTable =\n",
              "          await google.colab.kernel.invokeFunction('convertToInteractive',\n",
              "                                                    [key], {});\n",
              "        if (!dataTable) return;\n",
              "\n",
              "        const docLinkHtml = 'Like what you see? Visit the ' +\n",
              "          '<a target=\"_blank\" href=https://colab.research.google.com/notebooks/data_table.ipynb>data table notebook</a>'\n",
              "          + ' to learn more about interactive tables.';\n",
              "        element.innerHTML = '';\n",
              "        dataTable['output_type'] = 'display_data';\n",
              "        await google.colab.output.renderOutput(dataTable, element);\n",
              "        const docLink = document.createElement('div');\n",
              "        docLink.innerHTML = docLinkHtml;\n",
              "        element.appendChild(docLink);\n",
              "      }\n",
              "    </script>\n",
              "  </div>\n",
              "\n",
              "\n",
              "<div id=\"df-80527e0a-2ac5-46b2-adb7-eb41f5defa3b\">\n",
              "  <button class=\"colab-df-quickchart\" onclick=\"quickchart('df-80527e0a-2ac5-46b2-adb7-eb41f5defa3b')\"\n",
              "            title=\"Suggest charts\"\n",
              "            style=\"display:none;\">\n",
              "\n",
              "<svg xmlns=\"http://www.w3.org/2000/svg\" height=\"24px\"viewBox=\"0 0 24 24\"\n",
              "     width=\"24px\">\n",
              "    <g>\n",
              "        <path d=\"M19 3H5c-1.1 0-2 .9-2 2v14c0 1.1.9 2 2 2h14c1.1 0 2-.9 2-2V5c0-1.1-.9-2-2-2zM9 17H7v-7h2v7zm4 0h-2V7h2v10zm4 0h-2v-4h2v4z\"/>\n",
              "    </g>\n",
              "</svg>\n",
              "  </button>\n",
              "\n",
              "<style>\n",
              "  .colab-df-quickchart {\n",
              "      --bg-color: #E8F0FE;\n",
              "      --fill-color: #1967D2;\n",
              "      --hover-bg-color: #E2EBFA;\n",
              "      --hover-fill-color: #174EA6;\n",
              "      --disabled-fill-color: #AAA;\n",
              "      --disabled-bg-color: #DDD;\n",
              "  }\n",
              "\n",
              "  [theme=dark] .colab-df-quickchart {\n",
              "      --bg-color: #3B4455;\n",
              "      --fill-color: #D2E3FC;\n",
              "      --hover-bg-color: #434B5C;\n",
              "      --hover-fill-color: #FFFFFF;\n",
              "      --disabled-bg-color: #3B4455;\n",
              "      --disabled-fill-color: #666;\n",
              "  }\n",
              "\n",
              "  .colab-df-quickchart {\n",
              "    background-color: var(--bg-color);\n",
              "    border: none;\n",
              "    border-radius: 50%;\n",
              "    cursor: pointer;\n",
              "    display: none;\n",
              "    fill: var(--fill-color);\n",
              "    height: 32px;\n",
              "    padding: 0;\n",
              "    width: 32px;\n",
              "  }\n",
              "\n",
              "  .colab-df-quickchart:hover {\n",
              "    background-color: var(--hover-bg-color);\n",
              "    box-shadow: 0 1px 2px rgba(60, 64, 67, 0.3), 0 1px 3px 1px rgba(60, 64, 67, 0.15);\n",
              "    fill: var(--button-hover-fill-color);\n",
              "  }\n",
              "\n",
              "  .colab-df-quickchart-complete:disabled,\n",
              "  .colab-df-quickchart-complete:disabled:hover {\n",
              "    background-color: var(--disabled-bg-color);\n",
              "    fill: var(--disabled-fill-color);\n",
              "    box-shadow: none;\n",
              "  }\n",
              "\n",
              "  .colab-df-spinner {\n",
              "    border: 2px solid var(--fill-color);\n",
              "    border-color: transparent;\n",
              "    border-bottom-color: var(--fill-color);\n",
              "    animation:\n",
              "      spin 1s steps(1) infinite;\n",
              "  }\n",
              "\n",
              "  @keyframes spin {\n",
              "    0% {\n",
              "      border-color: transparent;\n",
              "      border-bottom-color: var(--fill-color);\n",
              "      border-left-color: var(--fill-color);\n",
              "    }\n",
              "    20% {\n",
              "      border-color: transparent;\n",
              "      border-left-color: var(--fill-color);\n",
              "      border-top-color: var(--fill-color);\n",
              "    }\n",
              "    30% {\n",
              "      border-color: transparent;\n",
              "      border-left-color: var(--fill-color);\n",
              "      border-top-color: var(--fill-color);\n",
              "      border-right-color: var(--fill-color);\n",
              "    }\n",
              "    40% {\n",
              "      border-color: transparent;\n",
              "      border-right-color: var(--fill-color);\n",
              "      border-top-color: var(--fill-color);\n",
              "    }\n",
              "    60% {\n",
              "      border-color: transparent;\n",
              "      border-right-color: var(--fill-color);\n",
              "    }\n",
              "    80% {\n",
              "      border-color: transparent;\n",
              "      border-right-color: var(--fill-color);\n",
              "      border-bottom-color: var(--fill-color);\n",
              "    }\n",
              "    90% {\n",
              "      border-color: transparent;\n",
              "      border-bottom-color: var(--fill-color);\n",
              "    }\n",
              "  }\n",
              "</style>\n",
              "\n",
              "  <script>\n",
              "    async function quickchart(key) {\n",
              "      const quickchartButtonEl =\n",
              "        document.querySelector('#' + key + ' button');\n",
              "      quickchartButtonEl.disabled = true;  // To prevent multiple clicks.\n",
              "      quickchartButtonEl.classList.add('colab-df-spinner');\n",
              "      try {\n",
              "        const charts = await google.colab.kernel.invokeFunction(\n",
              "            'suggestCharts', [key], {});\n",
              "      } catch (error) {\n",
              "        console.error('Error during call to suggestCharts:', error);\n",
              "      }\n",
              "      quickchartButtonEl.classList.remove('colab-df-spinner');\n",
              "      quickchartButtonEl.classList.add('colab-df-quickchart-complete');\n",
              "    }\n",
              "    (() => {\n",
              "      let quickchartButtonEl =\n",
              "        document.querySelector('#df-80527e0a-2ac5-46b2-adb7-eb41f5defa3b button');\n",
              "      quickchartButtonEl.style.display =\n",
              "        google.colab.kernel.accessAllowed ? 'block' : 'none';\n",
              "    })();\n",
              "  </script>\n",
              "</div>\n",
              "\n",
              "    </div>\n",
              "  </div>\n"
            ],
            "application/vnd.google.colaboratory.intrinsic+json": {
              "type": "dataframe",
              "variable_name": "nba_data",
              "summary": "{\n  \"name\": \"nba_data\",\n  \"rows\": 14120,\n  \"fields\": [\n    {\n      \"column\": \"Season\",\n      \"properties\": {\n        \"dtype\": \"number\",\n        \"std\": 1,\n        \"min\": 2019,\n        \"max\": 2024,\n        \"num_unique_values\": 6,\n        \"samples\": [\n          2019,\n          2020,\n          2024\n        ],\n        \"semantic_type\": \"\",\n        \"description\": \"\"\n      }\n    },\n    {\n      \"column\": \"G\",\n      \"properties\": {\n        \"dtype\": \"number\",\n        \"std\": 24,\n        \"min\": 1,\n        \"max\": 102,\n        \"num_unique_values\": 102,\n        \"samples\": [\n          31,\n          68,\n          63\n        ],\n        \"semantic_type\": \"\",\n        \"description\": \"\"\n      }\n    },\n    {\n      \"column\": \"Team\",\n      \"properties\": {\n        \"dtype\": \"category\",\n        \"num_unique_values\": 30,\n        \"samples\": [\n          \"WAS\",\n          \"MIL\",\n          \"POR\"\n        ],\n        \"semantic_type\": \"\",\n        \"description\": \"\"\n      }\n    },\n    {\n      \"column\": \"Name\",\n      \"properties\": {\n        \"dtype\": \"category\",\n        \"num_unique_values\": 30,\n        \"samples\": [\n          \"Washington Wizards\",\n          \"Milwaukee Bucks\",\n          \"Portland Trail Blazers\"\n        ],\n        \"semantic_type\": \"\",\n        \"description\": \"\"\n      }\n    },\n    {\n      \"column\": \"Date\",\n      \"properties\": {\n        \"dtype\": \"object\",\n        \"num_unique_values\": 1191,\n        \"samples\": [\n          \"2022-12-06\",\n          \"2020-01-14\",\n          \"2020-02-09\"\n        ],\n        \"semantic_type\": \"\",\n        \"description\": \"\"\n      }\n    },\n    {\n      \"column\": \"At\",\n      \"properties\": {\n        \"dtype\": \"category\",\n        \"num_unique_values\": 1,\n        \"samples\": [\n          \"@\"\n        ],\n        \"semantic_type\": \"\",\n        \"description\": \"\"\n      }\n    },\n    {\n      \"column\": \"Opp\",\n      \"properties\": {\n        \"dtype\": \"category\",\n        \"num_unique_values\": 30,\n        \"samples\": [\n          \"SAS\"\n        ],\n        \"semantic_type\": \"\",\n        \"description\": \"\"\n      }\n    },\n    {\n      \"column\": \"W/L\",\n      \"properties\": {\n        \"dtype\": \"category\",\n        \"num_unique_values\": 2,\n        \"samples\": [\n          \"W\"\n        ],\n        \"semantic_type\": \"\",\n        \"description\": \"\"\n      }\n    },\n    {\n      \"column\": \"OPts\",\n      \"properties\": {\n        \"dtype\": \"number\",\n        \"std\": 12,\n        \"min\": 68,\n        \"max\": 176,\n        \"num_unique_values\": 92,\n        \"samples\": [\n          130\n        ],\n        \"semantic_type\": \"\",\n        \"description\": \"\"\n      }\n    },\n    {\n      \"column\": \"Location\",\n      \"properties\": {\n        \"dtype\": \"category\",\n        \"num_unique_values\": 2,\n        \"samples\": [\n          \"Home\"\n        ],\n        \"semantic_type\": \"\",\n        \"description\": \"\"\n      }\n    },\n    {\n      \"column\": \"DPts\",\n      \"properties\": {\n        \"dtype\": \"number\",\n        \"std\": 12,\n        \"min\": 68,\n        \"max\": 176,\n        \"num_unique_values\": 92,\n        \"samples\": [\n          89\n        ],\n        \"semantic_type\": \"\",\n        \"description\": \"\"\n      }\n    },\n    {\n      \"column\": \"Opp_Name\",\n      \"properties\": {\n        \"dtype\": \"category\",\n        \"num_unique_values\": 30,\n        \"samples\": [\n          \"San Antonio Spurs\"\n        ],\n        \"semantic_type\": \"\",\n        \"description\": \"\"\n      }\n    },\n    {\n      \"column\": \"ORtg\",\n      \"properties\": {\n        \"dtype\": \"number\",\n        \"std\": 11.724095803732052,\n        \"min\": 67.8,\n        \"max\": 158.4,\n        \"num_unique_values\": 695,\n        \"samples\": [\n          99.1\n        ],\n        \"semantic_type\": \"\",\n        \"description\": \"\"\n      }\n    },\n    {\n      \"column\": \"DRtg\",\n      \"properties\": {\n        \"dtype\": \"number\",\n        \"std\": 11.708551612719774,\n        \"min\": 67.8,\n        \"max\": 158.4,\n        \"num_unique_values\": 696,\n        \"samples\": [\n          144.8\n        ],\n        \"semantic_type\": \"\",\n        \"description\": \"\"\n      }\n    },\n    {\n      \"column\": \"Pace\",\n      \"properties\": {\n        \"dtype\": \"number\",\n        \"std\": 4.806745382400228,\n        \"min\": 82.7,\n        \"max\": 118.7,\n        \"num_unique_values\": 288,\n        \"samples\": [\n          102.9\n        ],\n        \"semantic_type\": \"\",\n        \"description\": \"\"\n      }\n    },\n    {\n      \"column\": \"Win\",\n      \"properties\": {\n        \"dtype\": \"number\",\n        \"std\": 0,\n        \"min\": 0,\n        \"max\": 1,\n        \"num_unique_values\": 2,\n        \"samples\": [\n          1\n        ],\n        \"semantic_type\": \"\",\n        \"description\": \"\"\n      }\n    }\n  ]\n}"
            }
          },
          "metadata": {},
          "execution_count": 41
        }
      ]
    },
    {
      "cell_type": "code",
      "source": [
        "nba_data.info()"
      ],
      "metadata": {
        "colab": {
          "base_uri": "https://localhost:8080/"
        },
        "id": "lluBZjNmtyxk",
        "outputId": "c8a02426-0a94-4c25-b419-e65886a1fedd"
      },
      "execution_count": null,
      "outputs": [
        {
          "output_type": "stream",
          "name": "stdout",
          "text": [
            "<class 'pandas.core.frame.DataFrame'>\n",
            "RangeIndex: 14120 entries, 0 to 14119\n",
            "Data columns (total 16 columns):\n",
            " #   Column    Non-Null Count  Dtype  \n",
            "---  ------    --------------  -----  \n",
            " 0   Season    14120 non-null  int64  \n",
            " 1   G         14120 non-null  int64  \n",
            " 2   Team      14120 non-null  object \n",
            " 3   Name      14120 non-null  object \n",
            " 4   Date      14120 non-null  object \n",
            " 5   At        7059 non-null   object \n",
            " 6   Opp       14120 non-null  object \n",
            " 7   W/L       14120 non-null  object \n",
            " 8   OPts      14120 non-null  int64  \n",
            " 9   Location  14120 non-null  object \n",
            " 10  DPts      14120 non-null  int64  \n",
            " 11  Opp_Name  14120 non-null  object \n",
            " 12  ORtg      14120 non-null  float64\n",
            " 13  DRtg      14120 non-null  float64\n",
            " 14  Pace      14120 non-null  float64\n",
            " 15  Win       14120 non-null  int64  \n",
            "dtypes: float64(3), int64(5), object(8)\n",
            "memory usage: 1.7+ MB\n"
          ]
        }
      ]
    },
    {
      "cell_type": "code",
      "source": [
        "# Check for missing values\n",
        "missing_values = nba_data.isnull().sum()\n",
        "\n",
        "missing_values\n"
      ],
      "metadata": {
        "colab": {
          "base_uri": "https://localhost:8080/",
          "height": 585
        },
        "id": "V5Ryv522tyvU",
        "outputId": "291cff09-d7f2-473d-d4a1-8a2e8f5969c4"
      },
      "execution_count": null,
      "outputs": [
        {
          "output_type": "execute_result",
          "data": {
            "text/plain": [
              "Season         0\n",
              "G              0\n",
              "Team           0\n",
              "Name           0\n",
              "Date           0\n",
              "At          7061\n",
              "Opp            0\n",
              "W/L            0\n",
              "OPts           0\n",
              "Location       0\n",
              "DPts           0\n",
              "Opp_Name       0\n",
              "ORtg           0\n",
              "DRtg           0\n",
              "Pace           0\n",
              "Win            0\n",
              "dtype: int64"
            ],
            "text/html": [
              "<div>\n",
              "<style scoped>\n",
              "    .dataframe tbody tr th:only-of-type {\n",
              "        vertical-align: middle;\n",
              "    }\n",
              "\n",
              "    .dataframe tbody tr th {\n",
              "        vertical-align: top;\n",
              "    }\n",
              "\n",
              "    .dataframe thead th {\n",
              "        text-align: right;\n",
              "    }\n",
              "</style>\n",
              "<table border=\"1\" class=\"dataframe\">\n",
              "  <thead>\n",
              "    <tr style=\"text-align: right;\">\n",
              "      <th></th>\n",
              "      <th>0</th>\n",
              "    </tr>\n",
              "  </thead>\n",
              "  <tbody>\n",
              "    <tr>\n",
              "      <th>Season</th>\n",
              "      <td>0</td>\n",
              "    </tr>\n",
              "    <tr>\n",
              "      <th>G</th>\n",
              "      <td>0</td>\n",
              "    </tr>\n",
              "    <tr>\n",
              "      <th>Team</th>\n",
              "      <td>0</td>\n",
              "    </tr>\n",
              "    <tr>\n",
              "      <th>Name</th>\n",
              "      <td>0</td>\n",
              "    </tr>\n",
              "    <tr>\n",
              "      <th>Date</th>\n",
              "      <td>0</td>\n",
              "    </tr>\n",
              "    <tr>\n",
              "      <th>At</th>\n",
              "      <td>7061</td>\n",
              "    </tr>\n",
              "    <tr>\n",
              "      <th>Opp</th>\n",
              "      <td>0</td>\n",
              "    </tr>\n",
              "    <tr>\n",
              "      <th>W/L</th>\n",
              "      <td>0</td>\n",
              "    </tr>\n",
              "    <tr>\n",
              "      <th>OPts</th>\n",
              "      <td>0</td>\n",
              "    </tr>\n",
              "    <tr>\n",
              "      <th>Location</th>\n",
              "      <td>0</td>\n",
              "    </tr>\n",
              "    <tr>\n",
              "      <th>DPts</th>\n",
              "      <td>0</td>\n",
              "    </tr>\n",
              "    <tr>\n",
              "      <th>Opp_Name</th>\n",
              "      <td>0</td>\n",
              "    </tr>\n",
              "    <tr>\n",
              "      <th>ORtg</th>\n",
              "      <td>0</td>\n",
              "    </tr>\n",
              "    <tr>\n",
              "      <th>DRtg</th>\n",
              "      <td>0</td>\n",
              "    </tr>\n",
              "    <tr>\n",
              "      <th>Pace</th>\n",
              "      <td>0</td>\n",
              "    </tr>\n",
              "    <tr>\n",
              "      <th>Win</th>\n",
              "      <td>0</td>\n",
              "    </tr>\n",
              "  </tbody>\n",
              "</table>\n",
              "</div><br><label><b>dtype:</b> int64</label>"
            ]
          },
          "metadata": {},
          "execution_count": 43
        }
      ]
    },
    {
      "cell_type": "code",
      "source": [
        "# 'At' seems redundant given 'Location' already categorizes as 'Home/Away'\n",
        "nba_data_cleaned = nba_data.drop(columns=['At'])"
      ],
      "metadata": {
        "id": "3qcYefWotys1"
      },
      "execution_count": null,
      "outputs": []
    },
    {
      "cell_type": "code",
      "source": [
        "# Confirm there are no critical missing values in important columns\n",
        "missing_values_cleaned = nba_data_cleaned.isnull().sum()\n",
        "missing_values_cleaned"
      ],
      "metadata": {
        "colab": {
          "base_uri": "https://localhost:8080/",
          "height": 554
        },
        "id": "P3QnOPvGtyqd",
        "outputId": "443c68b6-426a-489c-966c-7a430890a67c"
      },
      "execution_count": null,
      "outputs": [
        {
          "output_type": "execute_result",
          "data": {
            "text/plain": [
              "Season      0\n",
              "G           0\n",
              "Team        0\n",
              "Name        0\n",
              "Date        0\n",
              "Opp         0\n",
              "W/L         0\n",
              "OPts        0\n",
              "Location    0\n",
              "DPts        0\n",
              "Opp_Name    0\n",
              "ORtg        0\n",
              "DRtg        0\n",
              "Pace        0\n",
              "Win         0\n",
              "dtype: int64"
            ],
            "text/html": [
              "<div>\n",
              "<style scoped>\n",
              "    .dataframe tbody tr th:only-of-type {\n",
              "        vertical-align: middle;\n",
              "    }\n",
              "\n",
              "    .dataframe tbody tr th {\n",
              "        vertical-align: top;\n",
              "    }\n",
              "\n",
              "    .dataframe thead th {\n",
              "        text-align: right;\n",
              "    }\n",
              "</style>\n",
              "<table border=\"1\" class=\"dataframe\">\n",
              "  <thead>\n",
              "    <tr style=\"text-align: right;\">\n",
              "      <th></th>\n",
              "      <th>0</th>\n",
              "    </tr>\n",
              "  </thead>\n",
              "  <tbody>\n",
              "    <tr>\n",
              "      <th>Season</th>\n",
              "      <td>0</td>\n",
              "    </tr>\n",
              "    <tr>\n",
              "      <th>G</th>\n",
              "      <td>0</td>\n",
              "    </tr>\n",
              "    <tr>\n",
              "      <th>Team</th>\n",
              "      <td>0</td>\n",
              "    </tr>\n",
              "    <tr>\n",
              "      <th>Name</th>\n",
              "      <td>0</td>\n",
              "    </tr>\n",
              "    <tr>\n",
              "      <th>Date</th>\n",
              "      <td>0</td>\n",
              "    </tr>\n",
              "    <tr>\n",
              "      <th>Opp</th>\n",
              "      <td>0</td>\n",
              "    </tr>\n",
              "    <tr>\n",
              "      <th>W/L</th>\n",
              "      <td>0</td>\n",
              "    </tr>\n",
              "    <tr>\n",
              "      <th>OPts</th>\n",
              "      <td>0</td>\n",
              "    </tr>\n",
              "    <tr>\n",
              "      <th>Location</th>\n",
              "      <td>0</td>\n",
              "    </tr>\n",
              "    <tr>\n",
              "      <th>DPts</th>\n",
              "      <td>0</td>\n",
              "    </tr>\n",
              "    <tr>\n",
              "      <th>Opp_Name</th>\n",
              "      <td>0</td>\n",
              "    </tr>\n",
              "    <tr>\n",
              "      <th>ORtg</th>\n",
              "      <td>0</td>\n",
              "    </tr>\n",
              "    <tr>\n",
              "      <th>DRtg</th>\n",
              "      <td>0</td>\n",
              "    </tr>\n",
              "    <tr>\n",
              "      <th>Pace</th>\n",
              "      <td>0</td>\n",
              "    </tr>\n",
              "    <tr>\n",
              "      <th>Win</th>\n",
              "      <td>0</td>\n",
              "    </tr>\n",
              "  </tbody>\n",
              "</table>\n",
              "</div><br><label><b>dtype:</b> int64</label>"
            ]
          },
          "metadata": {},
          "execution_count": 45
        }
      ]
    },
    {
      "cell_type": "code",
      "source": [
        "# Dataframe info after cleaning\n",
        "cleaned_info = nba_data_cleaned.info()\n",
        "cleaned_info"
      ],
      "metadata": {
        "colab": {
          "base_uri": "https://localhost:8080/"
        },
        "id": "bf47QnrJtyoC",
        "outputId": "f6e1306b-0325-4f35-bb24-fb47a1db0ddb"
      },
      "execution_count": null,
      "outputs": [
        {
          "output_type": "stream",
          "name": "stdout",
          "text": [
            "<class 'pandas.core.frame.DataFrame'>\n",
            "RangeIndex: 14120 entries, 0 to 14119\n",
            "Data columns (total 15 columns):\n",
            " #   Column    Non-Null Count  Dtype  \n",
            "---  ------    --------------  -----  \n",
            " 0   Season    14120 non-null  int64  \n",
            " 1   G         14120 non-null  int64  \n",
            " 2   Team      14120 non-null  object \n",
            " 3   Name      14120 non-null  object \n",
            " 4   Date      14120 non-null  object \n",
            " 5   Opp       14120 non-null  object \n",
            " 6   W/L       14120 non-null  object \n",
            " 7   OPts      14120 non-null  int64  \n",
            " 8   Location  14120 non-null  object \n",
            " 9   DPts      14120 non-null  int64  \n",
            " 10  Opp_Name  14120 non-null  object \n",
            " 11  ORtg      14120 non-null  float64\n",
            " 12  DRtg      14120 non-null  float64\n",
            " 13  Pace      14120 non-null  float64\n",
            " 14  Win       14120 non-null  int64  \n",
            "dtypes: float64(3), int64(5), object(7)\n",
            "memory usage: 1.6+ MB\n"
          ]
        }
      ]
    },
    {
      "cell_type": "code",
      "source": [
        "\n",
        "\n",
        "# Set visualization style\n",
        "sns.set(style=\"whitegrid\")\n",
        "\n",
        "# Visualization 1: Distribution of Wins and Losses\n",
        "plt.figure(figsize=(6, 4))\n",
        "sns.countplot(data=nba_data_cleaned, x='Win', palette='viridis')\n",
        "plt.title('Distribution of Wins and Losses', fontsize=14)\n",
        "plt.xlabel('Win (1) / Loss (0)', fontsize=12)\n",
        "plt.ylabel('Count', fontsize=12)\n",
        "plt.show()\n",
        "\n"
      ],
      "metadata": {
        "colab": {
          "base_uri": "https://localhost:8080/",
          "height": 531
        },
        "id": "mzNZye66tykz",
        "outputId": "b4619087-29aa-4a03-93d2-c240e4828c6a"
      },
      "execution_count": null,
      "outputs": [
        {
          "output_type": "stream",
          "name": "stderr",
          "text": [
            "<ipython-input-47-449c33df6474>:6: FutureWarning: \n",
            "\n",
            "Passing `palette` without assigning `hue` is deprecated and will be removed in v0.14.0. Assign the `x` variable to `hue` and set `legend=False` for the same effect.\n",
            "\n",
            "  sns.countplot(data=nba_data_cleaned, x='Win', palette='viridis')\n"
          ]
        },
        {
          "output_type": "display_data",
          "data": {
            "text/plain": [
              "<Figure size 600x400 with 1 Axes>"
            ],
            "image/png": "[encoded data removed]"
          },
          "metadata": {}
        }
      ]
    },
    {
      "cell_type": "code",
      "source": [
        "# Visualization 2: Average Offensive and Defensive Points by Location (Home vs Away)\n",
        "avg_points_by_location = nba_data_cleaned.groupby('Location')[['OPts', 'DPts']].mean().reset_index()\n",
        "\n",
        "plt.figure(figsize=(8, 5))\n",
        "avg_points_by_location.plot(kind='bar', x='Location', stacked=False, figsize=(8, 5), color=['#4CAF50', '#F44336'])\n",
        "plt.title('Average Offensive and Defensive Points by Location', fontsize=14)\n",
        "plt.xlabel('Location', fontsize=12)\n",
        "plt.ylabel('Points', fontsize=12)\n",
        "plt.legend(['Offensive Points', 'Defensive Points'], fontsize=10)\n",
        "plt.grid(axis='y', linestyle='--', alpha=0.7)\n",
        "plt.tight_layout()\n",
        "plt.show()\n",
        "\n"
      ],
      "metadata": {
        "colab": {
          "base_uri": "https://localhost:8080/",
          "height": 428
        },
        "id": "P0Rp_mM0ukxU",
        "outputId": "ba840efc-1da9-4f79-abe8-08ad94dfdf63"
      },
      "execution_count": null,
      "outputs": [
        {
          "output_type": "display_data",
          "data": {
            "text/plain": [
              "<Figure size 800x500 with 0 Axes>"
            ]
          },
          "metadata": {}
        },
        {
          "output_type": "display_data",
          "data": {
            "text/plain": [
              "<Figure size 800x500 with 1 Axes>"
            ],
            "image/png": "[encoded data removed]"
          },
          "metadata": {}
        }
      ]
    },
    {
      "cell_type": "code",
      "source": [
        "# Visualization 3: Correlation Heatmap for Numeric Features\n",
        "plt.figure(figsize=(10, 8))\n",
        "correlation_matrix = nba_data_cleaned[['OPts', 'DPts', 'ORtg', 'DRtg', 'Pace', 'Win']].corr()\n",
        "sns.heatmap(correlation_matrix, annot=True, cmap='coolwarm', fmt=\".2f\")\n",
        "plt.title('Correlation Heatmap of Numeric Features', fontsize=14)\n",
        "plt.show()"
      ],
      "metadata": {
        "colab": {
          "base_uri": "https://localhost:8080/",
          "height": 573
        },
        "id": "k8SSzpiAunB_",
        "outputId": "6cbd74b0-858b-4e7b-8125-ccc6b18695da"
      },
      "execution_count": null,
      "outputs": [
        {
          "output_type": "display_data",
          "data": {
            "text/plain": [
              "<Figure size 1000x800 with 2 Axes>"
            ],
            "image/png": "[encoded data removed]"
          },
          "metadata": {}
        }
      ]
    },
    {
      "cell_type": "markdown",
      "source": [
        "# EDA\n"
      ],
      "metadata": {
        "id": "n4RJkAruuzic"
      }
    },
    {
      "cell_type": "code",
      "source": [
        "from sklearn.model_selection import train_test_split\n",
        "from sklearn.preprocessing import LabelEncoder, MinMaxScaler\n",
        "\n"
      ],
      "metadata": {
        "id": "ziH2OYshum_-"
      },
      "execution_count": null,
      "outputs": []
    },
    {
      "cell_type": "code",
      "source": [
        "# Preprocessing - Encoding categorical variables\n",
        "encoder = LabelEncoder()\n",
        "\n",
        "# Encode categorical columns: Team, Opp, Opp_Name, Location\n",
        "nba_data_cleaned['Team'] = encoder.fit_transform(nba_data_cleaned['Team'])\n",
        "nba_data_cleaned['Opp'] = encoder.fit_transform(nba_data_cleaned['Opp'])\n",
        "nba_data_cleaned['Opp_Name'] = encoder.fit_transform(nba_data_cleaned['Opp_Name'])\n",
        "nba_data_cleaned['Location'] = encoder.fit_transform(nba_data_cleaned['Location'])"
      ],
      "metadata": {
        "id": "7DaEZnN5um9H"
      },
      "execution_count": null,
      "outputs": []
    },
    {
      "cell_type": "code",
      "source": [
        "nba_data_cleaned = nba_data_cleaned.drop(columns=['W/L'])\n"
      ],
      "metadata": {
        "id": "AOg5gNNjxArM"
      },
      "execution_count": null,
      "outputs": []
    },
    {
      "cell_type": "code",
      "source": [
        "nba_data_cleaned.info()"
      ],
      "metadata": {
        "colab": {
          "base_uri": "https://localhost:8080/"
        },
        "id": "_nvLhjauwOuV",
        "outputId": "250b6d72-0e51-4b44-c392-701527b517ac"
      },
      "execution_count": null,
      "outputs": [
        {
          "output_type": "stream",
          "name": "stdout",
          "text": [
            "<class 'pandas.core.frame.DataFrame'>\n",
            "RangeIndex: 14120 entries, 0 to 14119\n",
            "Data columns (total 14 columns):\n",
            " #   Column    Non-Null Count  Dtype  \n",
            "---  ------    --------------  -----  \n",
            " 0   Season    14120 non-null  int64  \n",
            " 1   G         14120 non-null  int64  \n",
            " 2   Team      14120 non-null  int64  \n",
            " 3   Name      14120 non-null  object \n",
            " 4   Date      14120 non-null  object \n",
            " 5   Opp       14120 non-null  int64  \n",
            " 6   OPts      14120 non-null  int64  \n",
            " 7   Location  14120 non-null  int64  \n",
            " 8   DPts      14120 non-null  int64  \n",
            " 9   Opp_Name  14120 non-null  int64  \n",
            " 10  ORtg      14120 non-null  float64\n",
            " 11  DRtg      14120 non-null  float64\n",
            " 12  Pace      14120 non-null  float64\n",
            " 13  Win       14120 non-null  int64  \n",
            "dtypes: float64(3), int64(9), object(2)\n",
            "memory usage: 1.5+ MB\n"
          ]
        }
      ]
    },
    {
      "cell_type": "code",
      "source": [
        "# Normalize numerical features: OPts, DPts, ORtg, DRtg, Pace\n",
        "scaler = MinMaxScaler()\n",
        "numerical_features = ['OPts', 'DPts', 'ORtg', 'DRtg', 'Pace']\n",
        "nba_data_cleaned[numerical_features] = scaler.fit_transform(nba_data_cleaned[numerical_features])\n",
        "\n",
        "# Splitting the data into features (X) and target (y)\n",
        "X = nba_data_cleaned.drop(columns=['Win', 'Name', 'Date'])  # Drop 'Win' (target) and irrelevant columns\n",
        "y = nba_data_cleaned['Win']"
      ],
      "metadata": {
        "id": "SfOvBts5um6T"
      },
      "execution_count": null,
      "outputs": []
    },
    {
      "cell_type": "code",
      "source": [
        "# Splitting the dataset into training (80%) and testing (20%) sets\n",
        "X_train, X_test, y_train, y_test = train_test_split(X, y, test_size=0.2, random_state=42, stratify=y)\n",
        "\n",
        "# Shapes of resulting datasets\n",
        "X_train.shape, X_test.shape, y_train.shape, y_test.shape"
      ],
      "metadata": {
        "colab": {
          "base_uri": "https://localhost:8080/"
        },
        "id": "eT6A6sozum3n",
        "outputId": "7feffb63-3f1f-4a2b-875f-cf5f3253f7e1"
      },
      "execution_count": null,
      "outputs": [
        {
          "output_type": "execute_result",
          "data": {
            "text/plain": [
              "((11296, 11), (2824, 11), (11296,), (2824,))"
            ]
          },
          "metadata": {},
          "execution_count": 55
        }
      ]
    },
    {
      "cell_type": "markdown",
      "source": [
        "# ML"
      ],
      "metadata": {
        "id": "45v7qJ1Mvymr"
      }
    },
    {
      "cell_type": "code",
      "source": [
        "from sklearn.linear_model import LogisticRegression\n",
        "from sklearn.tree import DecisionTreeClassifier\n",
        "from sklearn.ensemble import RandomForestClassifier, AdaBoostClassifier\n",
        "from sklearn.metrics import accuracy_score, confusion_matrix, classification_report"
      ],
      "metadata": {
        "id": "eB0Gy_csum0y"
      },
      "execution_count": null,
      "outputs": []
    },
    {
      "cell_type": "code",
      "source": [
        "# Initialize models\n",
        "logistic_model = LogisticRegression(random_state=42)\n",
        "tree_model = DecisionTreeClassifier(random_state=42)\n",
        "forest_model = RandomForestClassifier(random_state=42, n_estimators=100)\n",
        "adaboost_model = AdaBoostClassifier(random_state=42, n_estimators=100)\n",
        "\n",
        "# Train models\n",
        "models = {\n",
        "    \"Logistic Regression\": logistic_model,\n",
        "    \"Decision Tree\": tree_model,\n",
        "    \"Random Forest\": forest_model,\n",
        "    \"AdaBoost\": adaboost_model\n",
        "}\n",
        "\n",
        "results = {}"
      ],
      "metadata": {
        "id": "8fMfHd6-umyU"
      },
      "execution_count": null,
      "outputs": []
    },
    {
      "cell_type": "code",
      "source": [
        "for model_name, model in models.items():\n",
        "    model.fit(X_train, y_train)\n",
        "    predictions = model.predict(X_test)\n",
        "\n",
        "    # Evaluate model\n",
        "    accuracy = accuracy_score(y_test, predictions)\n",
        "    cm = confusion_matrix(y_test, predictions)\n",
        "    report = classification_report(y_test, predictions)\n",
        "\n",
        "    results[model_name] = {\n",
        "        \"Accuracy\": accuracy,\n",
        "        \"Confusion Matrix\": cm,\n",
        "        \"Classification Report\": report\n",
        "    }\n"
      ],
      "metadata": {
        "colab": {
          "base_uri": "https://localhost:8080/"
        },
        "collapsed": true,
        "id": "zqSWFZNyumvt",
        "outputId": "a94cc103-5e62-4dc8-fc67-a1f860838f07"
      },
      "execution_count": null,
      "outputs": [
        {
          "output_type": "stream",
          "name": "stderr",
          "text": [
            "/usr/local/lib/python3.10/dist-packages/sklearn/linear_model/_logistic.py:469: ConvergenceWarning: lbfgs failed to converge (status=1):\n",
            "STOP: TOTAL NO. of ITERATIONS REACHED LIMIT.\n",
            "\n",
            "Increase the number of iterations (max_iter) or scale the data as shown in:\n",
            "    https://scikit-learn.org/stable/modules/preprocessing.html\n",
            "Please also refer to the documentation for alternative solver options:\n",
            "    https://scikit-learn.org/stable/modules/linear_model.html#logistic-regression\n",
            "  n_iter_i = _check_optimize_result(\n",
            "/usr/local/lib/python3.10/dist-packages/sklearn/ensemble/_weight_boosting.py:527: FutureWarning: The SAMME.R algorithm (the default) is deprecated and will be removed in 1.6. Use the SAMME algorithm to circumvent this warning.\n",
            "  warnings.warn(\n"
          ]
        }
      ]
    },
    {
      "cell_type": "code",
      "source": [
        "\n",
        "# Display results\n",
        "for model_name, result in results.items():\n",
        "    print(f\"Model: {model_name}\")\n",
        "    print(f\"Accuracy: {result['Accuracy']:.2f}\")\n",
        "    print(\"Confusion Matrix:\")\n",
        "    print(result['Confusion Matrix'])\n",
        "    print(\"Classification Report:\")\n",
        "    print(result['Classification Report'])\n",
        "    print(\"-\" * 50)"
      ],
      "metadata": {
        "colab": {
          "base_uri": "https://localhost:8080/"
        },
        "id": "o9LsvHKIumtr",
        "outputId": "27b776b0-e312-4d11-cf88-3afa0b98efe2"
      },
      "execution_count": null,
      "outputs": [
        {
          "output_type": "stream",
          "name": "stdout",
          "text": [
            "Model: Logistic Regression\n",
            "Accuracy: 1.00\n",
            "Confusion Matrix:\n",
            "[[1442    0]\n",
            " [   3 1379]]\n",
            "Classification Report:\n",
            "              precision    recall  f1-score   support\n",
            "\n",
            "           0       1.00      1.00      1.00      1442\n",
            "           1       1.00      1.00      1.00      1382\n",
            "\n",
            "    accuracy                           1.00      2824\n",
            "   macro avg       1.00      1.00      1.00      2824\n",
            "weighted avg       1.00      1.00      1.00      2824\n",
            "\n",
            "--------------------------------------------------\n",
            "Model: Decision Tree\n",
            "Accuracy: 0.99\n",
            "Confusion Matrix:\n",
            "[[1430   12]\n",
            " [   3 1379]]\n",
            "Classification Report:\n",
            "              precision    recall  f1-score   support\n",
            "\n",
            "           0       1.00      0.99      0.99      1442\n",
            "           1       0.99      1.00      0.99      1382\n",
            "\n",
            "    accuracy                           0.99      2824\n",
            "   macro avg       0.99      0.99      0.99      2824\n",
            "weighted avg       0.99      0.99      0.99      2824\n",
            "\n",
            "--------------------------------------------------\n",
            "Model: Random Forest\n",
            "Accuracy: 1.00\n",
            "Confusion Matrix:\n",
            "[[1442    0]\n",
            " [   0 1382]]\n",
            "Classification Report:\n",
            "              precision    recall  f1-score   support\n",
            "\n",
            "           0       1.00      1.00      1.00      1442\n",
            "           1       1.00      1.00      1.00      1382\n",
            "\n",
            "    accuracy                           1.00      2824\n",
            "   macro avg       1.00      1.00      1.00      2824\n",
            "weighted avg       1.00      1.00      1.00      2824\n",
            "\n",
            "--------------------------------------------------\n",
            "Model: AdaBoost\n",
            "Accuracy: 1.00\n",
            "Confusion Matrix:\n",
            "[[1441    1]\n",
            " [   5 1377]]\n",
            "Classification Report:\n",
            "              precision    recall  f1-score   support\n",
            "\n",
            "           0       1.00      1.00      1.00      1442\n",
            "           1       1.00      1.00      1.00      1382\n",
            "\n",
            "    accuracy                           1.00      2824\n",
            "   macro avg       1.00      1.00      1.00      2824\n",
            "weighted avg       1.00      1.00      1.00      2824\n",
            "\n",
            "--------------------------------------------------\n"
          ]
        }
      ]
    },
    {
      "cell_type": "code",
      "source": [],
      "metadata": {
        "id": "cYE1YS2Sumqa"
      },
      "execution_count": null,
      "outputs": []
    },
    {
      "cell_type": "code",
      "source": [],
      "metadata": {
        "id": "VN8JgEQoyHjE"
      },
      "execution_count": null,
      "outputs": []
    },
    {
      "cell_type": "code",
      "source": [],
      "metadata": {
        "id": "QugPmkp8yHgO"
      },
      "execution_count": null,
      "outputs": []
    },
    {
      "cell_type": "code",
      "source": [],
      "metadata": {
        "id": "Fh8-wjgoyHdk"
      },
      "execution_count": null,
      "outputs": []
    },
    {
      "cell_type": "code",
      "source": [],
      "metadata": {
        "id": "zf-LyzxZyHai"
      },
      "execution_count": null,
      "outputs": []
    }
  ]
}